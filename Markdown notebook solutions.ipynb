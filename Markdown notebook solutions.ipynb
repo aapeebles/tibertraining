{
 "cells": [
  {
   "cell_type": "markdown",
   "metadata": {},
   "source": [
    "Writing in Markdown is _not_ that hard!\n",
    "\n",
    "I **will** complete these lessons!\n",
    "\n",
    "\"_Of course_,\" she whispered. Then, she shouted: \"All I need is **a little moxie**!\"\n",
    "\n",
    "If you're thinking to yourself, **_This is unbelievable_**, you'd probably be right."
   ]
  },
  {
   "cell_type": "markdown",
   "metadata": {},
   "source": [
    "\n",
    "\n",
    "\n",
    "# Header one\n",
    "## Header two\n",
    "### Header three\n",
    "#### Header four\n",
    "##### Header five\n",
    "###### Header six\n",
    "\n",
    "#### Colombian Symbolism in _One Hundred Years of Solitude_\n",
    "\n",
    "Here's some words about the book _One Hundred Years..._."
   ]
  },
  {
   "cell_type": "markdown",
   "metadata": {},
   "source": [
    "**And we used an example of how to print code in a markdown cell for an example**\n",
    "\n",
    "Type `print('Hello, world!')` say hello."
   ]
  },
  {
   "cell_type": "markdown",
   "metadata": {},
   "source": [
    "**Here we used direct web links**\n",
    "\n",
    "Have a question?\n",
    "[Search for it.](www.google.com)\n",
    "\n",
    "[You're **really, really** going to want to see this.](www.dailykitten.com)\n",
    "\n",
    "#### The Latest News from [the BBC](www.bbc.com/news])"
   ]
  },
  {
   "cell_type": "markdown",
   "metadata": {},
   "source": [
    "**Here we used referenced web links**\n",
    "\n",
    "\n",
    "Do you want to [see something fun][a fun place]?\n",
    "\n",
    "Well, do I have [the website for you][another fun place]!\n",
    "\n",
    "[a fun place]: www.zombo.com\n",
    "[another fun place]: www.stumbleupon.com\n"
   ]
  },
  {
   "cell_type": "markdown",
   "metadata": {},
   "source": [
    "\n",
    "**We used direct image link for Octdry**\n",
    "\n",
    "![A representation of Octdrey Catburn](http://octodex.github.com/images/octdrey-catburn.jpg)\n",
    "\n",
    "**And Reference Links for the Founding Fathers**\n",
    "![The first father][first father]\n",
    "\n",
    "![The second first father][Second Father]\n",
    "\n",
    "[first father]:http://octodex.github.com/images/founding-father.jpg\n",
    "[Second Father]:http://octodex.github.com/images/foundingfather_v2.png"
   ]
  },
  {
   "cell_type": "markdown",
   "metadata": {},
   "source": [
    "I read this interesting quote the other day:\n",
    "\n",
    ">\"Her eyes had called him and his soul had leaped at the call. To live, to err, to fall, to triumph, to recreate life out of life!\"\n",
    ">Once upon a time and a very good time it was there was a moocow coming down along the road and this moocow that was coming down along the road met a nicens little boy named baby tuckoo...\n",
    "\n",
    ">His father told him that story: his father looked at him through a glass: he had a hairy face.\n",
    "\n",
    ">He was baby tuckoo. The moocow came down the road where Betty Byrne lived: she sold lemon platt."
   ]
  },
  {
   "cell_type": "markdown",
   "metadata": {},
   "source": [
    "What the world needs now is:\n",
    "\n",
    "-  Love\n",
    "-  Sweet love\n",
    "\n",
    "It's the only thing that there's just too little of"
   ]
  },
  {
   "cell_type": "markdown",
   "metadata": {},
   "source": [
    "Functions are neat even if I don't know what this one does:\n",
    "\n",
    "$$F(k) = \\int_{-\\infty}^{\\infty} f(x) e^{2\\pi i k} dx'))$$"
   ]
  },
  {
   "cell_type": "code",
   "execution_count": null,
   "metadata": {
    "collapsed": true
   },
   "outputs": [],
   "source": []
  }
 ],
 "metadata": {
  "kernelspec": {
   "display_name": "Python 3",
   "language": "python",
   "name": "python3"
  },
  "language_info": {
   "codemirror_mode": {
    "name": "ipython",
    "version": 3
   },
   "file_extension": ".py",
   "mimetype": "text/x-python",
   "name": "python",
   "nbconvert_exporter": "python",
   "pygments_lexer": "ipython3",
   "version": "3.6.0"
  }
 },
 "nbformat": 4,
 "nbformat_minor": 2
}
