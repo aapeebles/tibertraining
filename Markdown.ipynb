{
 "cells": [
  {
   "cell_type": "markdown",
   "metadata": {},
   "source": [
    "__Markdown__\n",
    "========\n",
    "What is it?\n",
    "Markdown is a markup language with plain text formatting, designed so that it can be converted to HTML. \n",
    "Markdown can be used to create rich text using a plain text editor.\n"
   ]
  },
  {
   "cell_type": "markdown",
   "metadata": {},
   "source": [
    "__Why should I care?__\n",
    "========\n",
    "Markdown is your key to formatting the text you provide for this site. By learning a few intuitive rules you’ll be able to ensure your text is formatted with headings, list, quotes etc, without writing any HTML."
   ]
  },
  {
   "cell_type": "markdown",
   "metadata": {},
   "source": [
    "# __Markdown Examples__"
   ]
  },
  {
   "cell_type": "markdown",
   "metadata": {},
   "source": [
    "This is a paragraph."
   ]
  },
  {
   "cell_type": "markdown",
   "metadata": {},
   "source": [
    "This is a paragraph."
   ]
  },
  {
   "cell_type": "code",
   "execution_count": null,
   "metadata": {
    "collapsed": true
   },
   "outputs": [],
   "source": [
    "Header 1\n",
    "========\n",
    "\n",
    "Header 2\n",
    "--------"
   ]
  },
  {
   "cell_type": "markdown",
   "metadata": {
    "collapsed": true
   },
   "source": [
    "Header 1\n",
    "========\n",
    "\n",
    "Header 2\n",
    "--------"
   ]
  },
  {
   "cell_type": "code",
   "execution_count": null,
   "metadata": {
    "collapsed": true
   },
   "outputs": [],
   "source": [
    "__Headings__: Use #s followed by a blank space for notebook titles and section headings:\n",
    "# title \n",
    "## major headings \n",
    "### subheadings \n",
    "#### 4th level subheadings\n",
    "\n",
    "# Header 1\n",
    "\n",
    "## Header 2\n",
    "\n",
    "### Header 3\n",
    "\n",
    "#### Header 4\n",
    "\n",
    "##### Header 5\n",
    "\n",
    "###### Header 6"
   ]
  },
  {
   "cell_type": "markdown",
   "metadata": {
    "collapsed": true
   },
   "source": [
    "__Headings__: Use #s followed by a blank space for notebook titles and section headings:\n",
    "# title \n",
    "## major headings \n",
    "### subheadings \n",
    "#### 4th level subheadings\n",
    "\n",
    "# Header 1\n",
    "\n",
    "## Header 2\n",
    "\n",
    "### Header 3\n",
    "\n",
    "#### Header 4\n",
    "\n",
    "##### Header 5\n",
    "\n",
    "###### Header 6"
   ]
  },
  {
   "cell_type": "code",
   "execution_count": null,
   "metadata": {
    "collapsed": true
   },
   "outputs": [],
   "source": [
    "__Indenting:__ Use a greater than sign (>) and then a space, then type the text. Everything is indented until the next carriage return.\n",
    "> *Lorem ipsum dolor sit amet, consectetuer adipiscing elit. Aliquam hendrerit mi posuere lectus. Vestibulum enim wisi, viverra nec, fringilla in, laoreet vitae, risus.*"
   ]
  },
  {
   "cell_type": "markdown",
   "metadata": {
    "collapsed": true
   },
   "source": [
    "__Indenting:__ Use a greater than sign (>) and then a space, then type the text. Everything is indented until the next carriage return.\n",
    "> *Lorem ipsum dolor sit amet, consectetuer adipiscing elit. Aliquam hendrerit mi posuere lectus. Vestibulum enim wisi, viverra nec, fringilla in, laoreet vitae, risus.*"
   ]
  },
  {
   "cell_type": "code",
   "execution_count": null,
   "metadata": {
    "collapsed": true
   },
   "outputs": [],
   "source": [
    "> ## This is a header.\n",
    "> 1. This is the first list item.\n",
    "> 2. This is the second list item.\n",
    ">\n",
    "> Here's some example code:\n",
    ">\n",
    ">     Markdown.generate();"
   ]
  },
  {
   "cell_type": "markdown",
   "metadata": {
    "collapsed": true
   },
   "source": [
    "> ## This is a header.\n",
    "> 1. This is the first list item.\n",
    "> 2. This is the second list item.\n",
    ">\n",
    "> Here's some example code:\n",
    ">\n",
    ">     Markdown.generate();"
   ]
  },
  {
   "cell_type": "code",
   "execution_count": null,
   "metadata": {
    "collapsed": true
   },
   "outputs": [],
   "source": [
    "__Bullets__: Use the dash sign (- ) with two spaces after it or a space, a dash, and a space ( - ), to create a circular bullet. To create a sub bullet, use a tab followed a dash and two spaces. You can also use an asterisk instead of a dash, and it works the same.\n",
    "- <font color=red>Red</font>\n",
    "    -  This is a sub bullet for red.\n",
    "* <font color=green>Green</font>\n",
    "* <font color=blue>Blue</font>\n",
    "\n"
   ]
  },
  {
   "cell_type": "markdown",
   "metadata": {},
   "source": [
    "__Bullets__: Use the dash sign (- ) with two spaces after it or a space, a dash, and a space ( - ), to create a circular bullet. To create a sub bullet, use a tab followed a dash and two spaces. You can also use an asterisk instead of a dash, and it works the same.\n",
    "- <font color=red>Red</font>\n",
    "    -  This is a sub bullet for red.\n",
    "* <font color=green>Green</font>\n",
    "* <font color=blue>Blue</font>\n",
    "\n"
   ]
  },
  {
   "cell_type": "code",
   "execution_count": null,
   "metadata": {
    "collapsed": true
   },
   "outputs": [],
   "source": [
    "__Numbered lists__: Start with 1. followed by a space, then it starts numbering for you. Start each line with some number and a period, then a space. Tab to indent to get subnumbering.\n",
    "\n",
    "1. Buy flour and salt\n",
    "1. Mix together with water\n",
    "1. Bake\n",
    "    1. Or go to the store and buy a cake!"
   ]
  },
  {
   "cell_type": "markdown",
   "metadata": {
    "collapsed": true
   },
   "source": [
    "__Numbered lists__: Start with 1. followed by a space, then it starts numbering for you. Start each line with some number and a period, then a space. Tab to indent to get subnumbering.\n",
    "\n",
    "1. Buy flour and salt\n",
    "1. Mix together with water\n",
    "1. Bake\n",
    "    1. Or go to the store and buy a cake!"
   ]
  },
  {
   "cell_type": "code",
   "execution_count": null,
   "metadata": {
    "collapsed": true
   },
   "outputs": [],
   "source": [
    "__Internal links__: To link to a section, you need to add an ID for it right above the section title. Use this code: <a id=\"section_ID\"></a>\n",
    "\n",
    "This is [an example](http://datahub.io/) link.\n",
    "\n",
    "This is [an example] [ok] reference-style link.\n",
    "\n",
    "[ok]: https://okfn.org/"
   ]
  },
  {
   "cell_type": "markdown",
   "metadata": {
    "collapsed": true
   },
   "source": [
    "__Internal links__: To link to a section, you need to add an ID for it right above the section title. Use this code: <a id=\"section_ID\"></a>\n",
    "\n",
    "This is [an example](http://datahub.io/) link.\n",
    "\n",
    "This is [an example] [ok] reference-style link.\n",
    "\n",
    "[ok]: https://okfn.org/"
   ]
  },
  {
   "cell_type": "code",
   "execution_count": null,
   "metadata": {
    "collapsed": true
   },
   "outputs": [],
   "source": [
    "Graphics: You can use only graphics that are hosted on the web. You can't add captions for graphics at this time. Use this code: \n",
    "<img src=\"url.gif\" alt=\"Alt text that describes the graphic\" title=\"Title text\" />\n",
    "\n",
    "<img src=\"https://i.makeagif.com/media/11-28-2015/NjrA18.gif\" alt=\"Jupiter\" title=\"Jupiter Spinning\" />"
   ]
  },
  {
   "cell_type": "markdown",
   "metadata": {
    "collapsed": true
   },
   "source": [
    "Graphics: You can use only graphics that are hosted on the web. You can't add captions for graphics at this time. Use this code: \n",
    "<img src=\"url.gif\" alt=\"Alt text that describes the graphic\" title=\"Title text\" />\n",
    "\n",
    "<img src=\"https://i.makeagif.com/media/11-28-2015/NjrA18.gif\" alt=\"Jupiter\" title=\"Jupiter Spinning\" />"
   ]
  },
  {
   "cell_type": "code",
   "execution_count": null,
   "metadata": {
    "collapsed": true
   },
   "outputs": [],
   "source": [
    "**External Links:**\n",
    "referencing directly:\n",
    "    \n",
    "[Visit GitHub!](www.github.com) \n",
    "\n",
    "or indectly:\n",
    "[Really visit Github!][a good site]\n",
    "[a good site]:www.github.com\n"
   ]
  },
  {
   "cell_type": "markdown",
   "metadata": {},
   "source": [
    "**External Links**\n",
    "\n",
    "referencing directly:\n",
    "\n",
    "[Visit GitHub!](www.github.com) \n",
    "\n",
    "or indectly:\n",
    "[Really visit Github!][a good site]\n",
    "[a good site]:www.github.com"
   ]
  },
  {
   "cell_type": "code",
   "execution_count": null,
   "metadata": {
    "collapsed": true
   },
   "outputs": [],
   "source": [
    "You can even reference code within a markdown cell\n",
    "\n",
    "Use the `printf()` function."
   ]
  },
  {
   "cell_type": "markdown",
   "metadata": {},
   "source": [
    "You can even reference code within a markdown cell\n",
    "\n",
    "Use the `printf()` function."
   ]
  },
  {
   "cell_type": "markdown",
   "metadata": {},
   "source": [
    "You can include math functions to explain your reasoning by wrapping dollar signs around it:\n",
    "$$c = \\sqrt{a^2 + b^2}$$"
   ]
  },
  {
   "cell_type": "markdown",
   "metadata": {},
   "source": [
    "You can include math functions to explain your reasoning by wrapping dollar signs around it:\n",
    "$$c = \\sqrt{a^2 + b^2}$$"
   ]
  },
  {
   "cell_type": "code",
   "execution_count": null,
   "metadata": {
    "collapsed": true
   },
   "outputs": [],
   "source": [
    "**References:**\n",
    "1. http://opendatahandbook.org/contribute/markdown-examples/\n",
    "1.https://datascience.ibm.com/blog/markdown-for-jupyter-notebooks-cheatsheet/"
   ]
  },
  {
   "cell_type": "markdown",
   "metadata": {
    "collapsed": true
   },
   "source": [
    "**References:**\n",
    "1. http://opendatahandbook.org/contribute/markdown-examples/\n",
    "1. https://datascience.ibm.com/blog/markdown-for-jupyter-notebooks-cheatsheet/"
   ]
  },
  {
   "cell_type": "code",
   "execution_count": null,
   "metadata": {
    "collapsed": true
   },
   "outputs": [],
   "source": []
  }
 ],
 "metadata": {
  "kernelspec": {
   "display_name": "Python 3",
   "language": "python",
   "name": "python3"
  },
  "language_info": {
   "codemirror_mode": {
    "name": "ipython",
    "version": 3
   },
   "file_extension": ".py",
   "mimetype": "text/x-python",
   "name": "python",
   "nbconvert_exporter": "python",
   "pygments_lexer": "ipython3",
   "version": "3.6.0"
  }
 },
 "nbformat": 4,
 "nbformat_minor": 2
}
